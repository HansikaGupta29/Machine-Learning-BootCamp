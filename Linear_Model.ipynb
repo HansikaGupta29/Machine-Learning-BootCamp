{
  "cells": [
    {
      "cell_type": "code",
      "execution_count": null,
      "metadata": {
        "id": "O_u6C-x40QQK"
      },
      "outputs": [],
      "source": [
        "import pandas as pd\n",
        "import numpy as np\n",
        "import matplotlib.pyplot as plt"
      ]
    },
    {
      "cell_type": "code",
      "execution_count": null,
      "metadata": {
        "id": "3ecFFUSdcfq4",
        "colab": {
          "base_uri": "https://localhost:8080/"
        },
        "outputId": "a4592b87-ff69-4d9f-d4ad-1a8fea77b72c"
      },
      "outputs": [
        {
          "output_type": "stream",
          "name": "stdout",
          "text": [
            "Drive already mounted at /content/drive; to attempt to forcibly remount, call drive.mount(\"/content/drive\", force_remount=True).\n"
          ]
        }
      ],
      "source": [
        "from google.colab import drive\n",
        "drive.mount('/content/drive')"
      ]
    },
    {
      "cell_type": "code",
      "execution_count": null,
      "metadata": {
        "colab": {
          "base_uri": "https://localhost:8080/"
        },
        "id": "rg56Qi0HgHwi",
        "outputId": "f69401c2-50cf-4abb-cda9-65274309e14d"
      },
      "outputs": [
        {
          "output_type": "execute_result",
          "data": {
            "text/plain": [
              "   Unnamed: 0          A            B          C          D          E  \\\n",
              "0           0  -9.989516  1564.957586   8.199060  32.508797  19.464400   \n",
              "1           1 -17.591800  1559.053039  12.302737 -36.351098   6.256406   \n",
              "2           2 -28.321695  1305.900952 -35.681049  -9.039358 -45.519426   \n",
              "3           3 -40.471241  1612.746996 -28.980454   2.137719 -34.767491   \n",
              "4           4 -36.525271  1852.275617 -32.744347  -1.439526 -14.061837   \n",
              "\n",
              "             F          G          H            I  ...           L          M  \\\n",
              "0  1644.524093  26.100966  34.731954  4378.575414  ...  770.535311  30.060441   \n",
              "1  1640.834263  12.954212 -43.333128  4833.766813  ...  997.260070  -1.329145   \n",
              "2  2039.003363  -0.154348  18.107957  4162.395297  ...  616.059291  -6.997085   \n",
              "3  2757.469393  23.857472 -48.434183  4340.953927  ...  715.537625 -12.441561   \n",
              "4  2138.422485  44.061988  33.336936  4099.453685  ...  629.221442  10.992360   \n",
              "\n",
              "           N          O          P          Q          R          S  \\\n",
              "0 -25.002361  11.892468 -34.329383  37.218423  -4.440530  29.075092   \n",
              "1  16.022086  42.972484  -7.372877  45.550946  37.576551  12.926551   \n",
              "2  27.846844  26.511376  19.323152 -35.807513  -5.913019  15.046779   \n",
              "3  47.883435  36.994884  30.783992  22.162383  16.465836  41.435425   \n",
              "4 -47.143335  -8.296962  -8.086565  39.169726 -49.540056 -32.518653   \n",
              "\n",
              "           T         label  \n",
              "0  29.107896    311.232491  \n",
              "1 -32.565844   6393.112342  \n",
              "2 -34.332357   2601.046223  \n",
              "3  33.561233  13572.118106  \n",
              "4 -36.320202  -5462.446898  \n",
              "\n",
              "[5 rows x 22 columns]"
            ],
            "text/html": [
              "\n",
              "  <div id=\"df-dea7856a-2c60-47b2-8c58-9eb57ae2e23e\">\n",
              "    <div class=\"colab-df-container\">\n",
              "      <div>\n",
              "<style scoped>\n",
              "    .dataframe tbody tr th:only-of-type {\n",
              "        vertical-align: middle;\n",
              "    }\n",
              "\n",
              "    .dataframe tbody tr th {\n",
              "        vertical-align: top;\n",
              "    }\n",
              "\n",
              "    .dataframe thead th {\n",
              "        text-align: right;\n",
              "    }\n",
              "</style>\n",
              "<table border=\"1\" class=\"dataframe\">\n",
              "  <thead>\n",
              "    <tr style=\"text-align: right;\">\n",
              "      <th></th>\n",
              "      <th>Unnamed: 0</th>\n",
              "      <th>A</th>\n",
              "      <th>B</th>\n",
              "      <th>C</th>\n",
              "      <th>D</th>\n",
              "      <th>E</th>\n",
              "      <th>F</th>\n",
              "      <th>G</th>\n",
              "      <th>H</th>\n",
              "      <th>I</th>\n",
              "      <th>...</th>\n",
              "      <th>L</th>\n",
              "      <th>M</th>\n",
              "      <th>N</th>\n",
              "      <th>O</th>\n",
              "      <th>P</th>\n",
              "      <th>Q</th>\n",
              "      <th>R</th>\n",
              "      <th>S</th>\n",
              "      <th>T</th>\n",
              "      <th>label</th>\n",
              "    </tr>\n",
              "  </thead>\n",
              "  <tbody>\n",
              "    <tr>\n",
              "      <th>0</th>\n",
              "      <td>0</td>\n",
              "      <td>-9.989516</td>\n",
              "      <td>1564.957586</td>\n",
              "      <td>8.199060</td>\n",
              "      <td>32.508797</td>\n",
              "      <td>19.464400</td>\n",
              "      <td>1644.524093</td>\n",
              "      <td>26.100966</td>\n",
              "      <td>34.731954</td>\n",
              "      <td>4378.575414</td>\n",
              "      <td>...</td>\n",
              "      <td>770.535311</td>\n",
              "      <td>30.060441</td>\n",
              "      <td>-25.002361</td>\n",
              "      <td>11.892468</td>\n",
              "      <td>-34.329383</td>\n",
              "      <td>37.218423</td>\n",
              "      <td>-4.440530</td>\n",
              "      <td>29.075092</td>\n",
              "      <td>29.107896</td>\n",
              "      <td>311.232491</td>\n",
              "    </tr>\n",
              "    <tr>\n",
              "      <th>1</th>\n",
              "      <td>1</td>\n",
              "      <td>-17.591800</td>\n",
              "      <td>1559.053039</td>\n",
              "      <td>12.302737</td>\n",
              "      <td>-36.351098</td>\n",
              "      <td>6.256406</td>\n",
              "      <td>1640.834263</td>\n",
              "      <td>12.954212</td>\n",
              "      <td>-43.333128</td>\n",
              "      <td>4833.766813</td>\n",
              "      <td>...</td>\n",
              "      <td>997.260070</td>\n",
              "      <td>-1.329145</td>\n",
              "      <td>16.022086</td>\n",
              "      <td>42.972484</td>\n",
              "      <td>-7.372877</td>\n",
              "      <td>45.550946</td>\n",
              "      <td>37.576551</td>\n",
              "      <td>12.926551</td>\n",
              "      <td>-32.565844</td>\n",
              "      <td>6393.112342</td>\n",
              "    </tr>\n",
              "    <tr>\n",
              "      <th>2</th>\n",
              "      <td>2</td>\n",
              "      <td>-28.321695</td>\n",
              "      <td>1305.900952</td>\n",
              "      <td>-35.681049</td>\n",
              "      <td>-9.039358</td>\n",
              "      <td>-45.519426</td>\n",
              "      <td>2039.003363</td>\n",
              "      <td>-0.154348</td>\n",
              "      <td>18.107957</td>\n",
              "      <td>4162.395297</td>\n",
              "      <td>...</td>\n",
              "      <td>616.059291</td>\n",
              "      <td>-6.997085</td>\n",
              "      <td>27.846844</td>\n",
              "      <td>26.511376</td>\n",
              "      <td>19.323152</td>\n",
              "      <td>-35.807513</td>\n",
              "      <td>-5.913019</td>\n",
              "      <td>15.046779</td>\n",
              "      <td>-34.332357</td>\n",
              "      <td>2601.046223</td>\n",
              "    </tr>\n",
              "    <tr>\n",
              "      <th>3</th>\n",
              "      <td>3</td>\n",
              "      <td>-40.471241</td>\n",
              "      <td>1612.746996</td>\n",
              "      <td>-28.980454</td>\n",
              "      <td>2.137719</td>\n",
              "      <td>-34.767491</td>\n",
              "      <td>2757.469393</td>\n",
              "      <td>23.857472</td>\n",
              "      <td>-48.434183</td>\n",
              "      <td>4340.953927</td>\n",
              "      <td>...</td>\n",
              "      <td>715.537625</td>\n",
              "      <td>-12.441561</td>\n",
              "      <td>47.883435</td>\n",
              "      <td>36.994884</td>\n",
              "      <td>30.783992</td>\n",
              "      <td>22.162383</td>\n",
              "      <td>16.465836</td>\n",
              "      <td>41.435425</td>\n",
              "      <td>33.561233</td>\n",
              "      <td>13572.118106</td>\n",
              "    </tr>\n",
              "    <tr>\n",
              "      <th>4</th>\n",
              "      <td>4</td>\n",
              "      <td>-36.525271</td>\n",
              "      <td>1852.275617</td>\n",
              "      <td>-32.744347</td>\n",
              "      <td>-1.439526</td>\n",
              "      <td>-14.061837</td>\n",
              "      <td>2138.422485</td>\n",
              "      <td>44.061988</td>\n",
              "      <td>33.336936</td>\n",
              "      <td>4099.453685</td>\n",
              "      <td>...</td>\n",
              "      <td>629.221442</td>\n",
              "      <td>10.992360</td>\n",
              "      <td>-47.143335</td>\n",
              "      <td>-8.296962</td>\n",
              "      <td>-8.086565</td>\n",
              "      <td>39.169726</td>\n",
              "      <td>-49.540056</td>\n",
              "      <td>-32.518653</td>\n",
              "      <td>-36.320202</td>\n",
              "      <td>-5462.446898</td>\n",
              "    </tr>\n",
              "  </tbody>\n",
              "</table>\n",
              "<p>5 rows × 22 columns</p>\n",
              "</div>\n",
              "      <button class=\"colab-df-convert\" onclick=\"convertToInteractive('df-dea7856a-2c60-47b2-8c58-9eb57ae2e23e')\"\n",
              "              title=\"Convert this dataframe to an interactive table.\"\n",
              "              style=\"display:none;\">\n",
              "        \n",
              "  <svg xmlns=\"http://www.w3.org/2000/svg\" height=\"24px\"viewBox=\"0 0 24 24\"\n",
              "       width=\"24px\">\n",
              "    <path d=\"M0 0h24v24H0V0z\" fill=\"none\"/>\n",
              "    <path d=\"M18.56 5.44l.94 2.06.94-2.06 2.06-.94-2.06-.94-.94-2.06-.94 2.06-2.06.94zm-11 1L8.5 8.5l.94-2.06 2.06-.94-2.06-.94L8.5 2.5l-.94 2.06-2.06.94zm10 10l.94 2.06.94-2.06 2.06-.94-2.06-.94-.94-2.06-.94 2.06-2.06.94z\"/><path d=\"M17.41 7.96l-1.37-1.37c-.4-.4-.92-.59-1.43-.59-.52 0-1.04.2-1.43.59L10.3 9.45l-7.72 7.72c-.78.78-.78 2.05 0 2.83L4 21.41c.39.39.9.59 1.41.59.51 0 1.02-.2 1.41-.59l7.78-7.78 2.81-2.81c.8-.78.8-2.07 0-2.86zM5.41 20L4 18.59l7.72-7.72 1.47 1.35L5.41 20z\"/>\n",
              "  </svg>\n",
              "      </button>\n",
              "      \n",
              "  <style>\n",
              "    .colab-df-container {\n",
              "      display:flex;\n",
              "      flex-wrap:wrap;\n",
              "      gap: 12px;\n",
              "    }\n",
              "\n",
              "    .colab-df-convert {\n",
              "      background-color: #E8F0FE;\n",
              "      border: none;\n",
              "      border-radius: 50%;\n",
              "      cursor: pointer;\n",
              "      display: none;\n",
              "      fill: #1967D2;\n",
              "      height: 32px;\n",
              "      padding: 0 0 0 0;\n",
              "      width: 32px;\n",
              "    }\n",
              "\n",
              "    .colab-df-convert:hover {\n",
              "      background-color: #E2EBFA;\n",
              "      box-shadow: 0px 1px 2px rgba(60, 64, 67, 0.3), 0px 1px 3px 1px rgba(60, 64, 67, 0.15);\n",
              "      fill: #174EA6;\n",
              "    }\n",
              "\n",
              "    [theme=dark] .colab-df-convert {\n",
              "      background-color: #3B4455;\n",
              "      fill: #D2E3FC;\n",
              "    }\n",
              "\n",
              "    [theme=dark] .colab-df-convert:hover {\n",
              "      background-color: #434B5C;\n",
              "      box-shadow: 0px 1px 3px 1px rgba(0, 0, 0, 0.15);\n",
              "      filter: drop-shadow(0px 1px 2px rgba(0, 0, 0, 0.3));\n",
              "      fill: #FFFFFF;\n",
              "    }\n",
              "  </style>\n",
              "\n",
              "      <script>\n",
              "        const buttonEl =\n",
              "          document.querySelector('#df-dea7856a-2c60-47b2-8c58-9eb57ae2e23e button.colab-df-convert');\n",
              "        buttonEl.style.display =\n",
              "          google.colab.kernel.accessAllowed ? 'block' : 'none';\n",
              "\n",
              "        async function convertToInteractive(key) {\n",
              "          const element = document.querySelector('#df-dea7856a-2c60-47b2-8c58-9eb57ae2e23e');\n",
              "          const dataTable =\n",
              "            await google.colab.kernel.invokeFunction('convertToInteractive',\n",
              "                                                     [key], {});\n",
              "          if (!dataTable) return;\n",
              "\n",
              "          const docLinkHtml = 'Like what you see? Visit the ' +\n",
              "            '<a target=\"_blank\" href=https://colab.research.google.com/notebooks/data_table.ipynb>data table notebook</a>'\n",
              "            + ' to learn more about interactive tables.';\n",
              "          element.innerHTML = '';\n",
              "          dataTable['output_type'] = 'display_data';\n",
              "          await google.colab.output.renderOutput(dataTable, element);\n",
              "          const docLink = document.createElement('div');\n",
              "          docLink.innerHTML = docLinkHtml;\n",
              "          element.appendChild(docLink);\n",
              "        }\n",
              "      </script>\n",
              "    </div>\n",
              "  </div>\n",
              "  "
            ]
          },
          "metadata": {},
          "execution_count": 6
        }
      ],
      "source": [
        "train= pd.read_csv('/content/drive/MyDrive/Cyberlabs- ML/linear_data/Linear_train.csv')\n",
        "train.head()"
      ]
    },
    {
      "cell_type": "code",
      "execution_count": null,
      "metadata": {
        "colab": {
          "base_uri": "https://localhost:8080/"
        },
        "id": "HNkhUsfviB2r",
        "outputId": "3a42110d-805a-450e-8549-339be3fac516"
      },
      "outputs": [
        {
          "output_type": "execute_result",
          "data": {
            "text/plain": [
              "   Unnamed: 0          A            B          C          D          E  \\\n",
              "0           0  40.790740  1187.897579 -28.941991  43.498302  14.157983   \n",
              "1           1  47.968749  1498.588679  24.922821 -38.979082  16.405452   \n",
              "2           2   9.762564  1316.354415   1.170771  10.365178 -11.993156   \n",
              "3           3   6.414629  1895.586749  44.496934 -49.677800 -24.825833   \n",
              "4           4  -4.112012  1130.920162  19.103960  -8.741503 -28.589701   \n",
              "\n",
              "             F          G          H            I  ...           L          M  \\\n",
              "0  2536.000797 -34.181638 -14.940211  4746.739893  ...  707.727094  21.030812   \n",
              "1  1798.950305 -23.660484 -34.792328  4076.982013  ...  737.135391 -17.860346   \n",
              "2  2714.382200  26.382837  27.442924  4178.719984  ...  940.732329 -35.879432   \n",
              "3  2327.316373   1.406644  44.103008  4586.697737  ...  925.441952 -19.409771   \n",
              "4  1299.418975  42.946135   4.758032  4809.536369  ...  797.953813 -46.788081   \n",
              "\n",
              "           N          O          P          Q          R          S  \\\n",
              "0 -44.606156  -9.625546  42.276162 -11.000471 -19.830564  -5.529430   \n",
              "1  42.274026 -19.886483  16.337922   9.025313  27.760845  21.484409   \n",
              "2  23.837924   3.729191  33.564390  12.848880 -45.837834 -49.592176   \n",
              "3  25.346975  -7.729920 -42.813516 -17.666168  35.506064 -49.048652   \n",
              "4  43.876292  34.009303  34.061089 -30.182903 -41.188733  26.828040   \n",
              "\n",
              "           T         label  \n",
              "0 -28.154864   -163.522723  \n",
              "1 -24.206545   6484.664510  \n",
              "2  36.688611   2393.818082  \n",
              "3 -34.048583  -9397.072355  \n",
              "4 -22.476663  10487.323575  \n",
              "\n",
              "[5 rows x 22 columns]"
            ],
            "text/html": [
              "\n",
              "  <div id=\"df-cb99a7aa-7ea7-44ed-923e-8b2a6efabdbb\">\n",
              "    <div class=\"colab-df-container\">\n",
              "      <div>\n",
              "<style scoped>\n",
              "    .dataframe tbody tr th:only-of-type {\n",
              "        vertical-align: middle;\n",
              "    }\n",
              "\n",
              "    .dataframe tbody tr th {\n",
              "        vertical-align: top;\n",
              "    }\n",
              "\n",
              "    .dataframe thead th {\n",
              "        text-align: right;\n",
              "    }\n",
              "</style>\n",
              "<table border=\"1\" class=\"dataframe\">\n",
              "  <thead>\n",
              "    <tr style=\"text-align: right;\">\n",
              "      <th></th>\n",
              "      <th>Unnamed: 0</th>\n",
              "      <th>A</th>\n",
              "      <th>B</th>\n",
              "      <th>C</th>\n",
              "      <th>D</th>\n",
              "      <th>E</th>\n",
              "      <th>F</th>\n",
              "      <th>G</th>\n",
              "      <th>H</th>\n",
              "      <th>I</th>\n",
              "      <th>...</th>\n",
              "      <th>L</th>\n",
              "      <th>M</th>\n",
              "      <th>N</th>\n",
              "      <th>O</th>\n",
              "      <th>P</th>\n",
              "      <th>Q</th>\n",
              "      <th>R</th>\n",
              "      <th>S</th>\n",
              "      <th>T</th>\n",
              "      <th>label</th>\n",
              "    </tr>\n",
              "  </thead>\n",
              "  <tbody>\n",
              "    <tr>\n",
              "      <th>0</th>\n",
              "      <td>0</td>\n",
              "      <td>40.790740</td>\n",
              "      <td>1187.897579</td>\n",
              "      <td>-28.941991</td>\n",
              "      <td>43.498302</td>\n",
              "      <td>14.157983</td>\n",
              "      <td>2536.000797</td>\n",
              "      <td>-34.181638</td>\n",
              "      <td>-14.940211</td>\n",
              "      <td>4746.739893</td>\n",
              "      <td>...</td>\n",
              "      <td>707.727094</td>\n",
              "      <td>21.030812</td>\n",
              "      <td>-44.606156</td>\n",
              "      <td>-9.625546</td>\n",
              "      <td>42.276162</td>\n",
              "      <td>-11.000471</td>\n",
              "      <td>-19.830564</td>\n",
              "      <td>-5.529430</td>\n",
              "      <td>-28.154864</td>\n",
              "      <td>-163.522723</td>\n",
              "    </tr>\n",
              "    <tr>\n",
              "      <th>1</th>\n",
              "      <td>1</td>\n",
              "      <td>47.968749</td>\n",
              "      <td>1498.588679</td>\n",
              "      <td>24.922821</td>\n",
              "      <td>-38.979082</td>\n",
              "      <td>16.405452</td>\n",
              "      <td>1798.950305</td>\n",
              "      <td>-23.660484</td>\n",
              "      <td>-34.792328</td>\n",
              "      <td>4076.982013</td>\n",
              "      <td>...</td>\n",
              "      <td>737.135391</td>\n",
              "      <td>-17.860346</td>\n",
              "      <td>42.274026</td>\n",
              "      <td>-19.886483</td>\n",
              "      <td>16.337922</td>\n",
              "      <td>9.025313</td>\n",
              "      <td>27.760845</td>\n",
              "      <td>21.484409</td>\n",
              "      <td>-24.206545</td>\n",
              "      <td>6484.664510</td>\n",
              "    </tr>\n",
              "    <tr>\n",
              "      <th>2</th>\n",
              "      <td>2</td>\n",
              "      <td>9.762564</td>\n",
              "      <td>1316.354415</td>\n",
              "      <td>1.170771</td>\n",
              "      <td>10.365178</td>\n",
              "      <td>-11.993156</td>\n",
              "      <td>2714.382200</td>\n",
              "      <td>26.382837</td>\n",
              "      <td>27.442924</td>\n",
              "      <td>4178.719984</td>\n",
              "      <td>...</td>\n",
              "      <td>940.732329</td>\n",
              "      <td>-35.879432</td>\n",
              "      <td>23.837924</td>\n",
              "      <td>3.729191</td>\n",
              "      <td>33.564390</td>\n",
              "      <td>12.848880</td>\n",
              "      <td>-45.837834</td>\n",
              "      <td>-49.592176</td>\n",
              "      <td>36.688611</td>\n",
              "      <td>2393.818082</td>\n",
              "    </tr>\n",
              "    <tr>\n",
              "      <th>3</th>\n",
              "      <td>3</td>\n",
              "      <td>6.414629</td>\n",
              "      <td>1895.586749</td>\n",
              "      <td>44.496934</td>\n",
              "      <td>-49.677800</td>\n",
              "      <td>-24.825833</td>\n",
              "      <td>2327.316373</td>\n",
              "      <td>1.406644</td>\n",
              "      <td>44.103008</td>\n",
              "      <td>4586.697737</td>\n",
              "      <td>...</td>\n",
              "      <td>925.441952</td>\n",
              "      <td>-19.409771</td>\n",
              "      <td>25.346975</td>\n",
              "      <td>-7.729920</td>\n",
              "      <td>-42.813516</td>\n",
              "      <td>-17.666168</td>\n",
              "      <td>35.506064</td>\n",
              "      <td>-49.048652</td>\n",
              "      <td>-34.048583</td>\n",
              "      <td>-9397.072355</td>\n",
              "    </tr>\n",
              "    <tr>\n",
              "      <th>4</th>\n",
              "      <td>4</td>\n",
              "      <td>-4.112012</td>\n",
              "      <td>1130.920162</td>\n",
              "      <td>19.103960</td>\n",
              "      <td>-8.741503</td>\n",
              "      <td>-28.589701</td>\n",
              "      <td>1299.418975</td>\n",
              "      <td>42.946135</td>\n",
              "      <td>4.758032</td>\n",
              "      <td>4809.536369</td>\n",
              "      <td>...</td>\n",
              "      <td>797.953813</td>\n",
              "      <td>-46.788081</td>\n",
              "      <td>43.876292</td>\n",
              "      <td>34.009303</td>\n",
              "      <td>34.061089</td>\n",
              "      <td>-30.182903</td>\n",
              "      <td>-41.188733</td>\n",
              "      <td>26.828040</td>\n",
              "      <td>-22.476663</td>\n",
              "      <td>10487.323575</td>\n",
              "    </tr>\n",
              "  </tbody>\n",
              "</table>\n",
              "<p>5 rows × 22 columns</p>\n",
              "</div>\n",
              "      <button class=\"colab-df-convert\" onclick=\"convertToInteractive('df-cb99a7aa-7ea7-44ed-923e-8b2a6efabdbb')\"\n",
              "              title=\"Convert this dataframe to an interactive table.\"\n",
              "              style=\"display:none;\">\n",
              "        \n",
              "  <svg xmlns=\"http://www.w3.org/2000/svg\" height=\"24px\"viewBox=\"0 0 24 24\"\n",
              "       width=\"24px\">\n",
              "    <path d=\"M0 0h24v24H0V0z\" fill=\"none\"/>\n",
              "    <path d=\"M18.56 5.44l.94 2.06.94-2.06 2.06-.94-2.06-.94-.94-2.06-.94 2.06-2.06.94zm-11 1L8.5 8.5l.94-2.06 2.06-.94-2.06-.94L8.5 2.5l-.94 2.06-2.06.94zm10 10l.94 2.06.94-2.06 2.06-.94-2.06-.94-.94-2.06-.94 2.06-2.06.94z\"/><path d=\"M17.41 7.96l-1.37-1.37c-.4-.4-.92-.59-1.43-.59-.52 0-1.04.2-1.43.59L10.3 9.45l-7.72 7.72c-.78.78-.78 2.05 0 2.83L4 21.41c.39.39.9.59 1.41.59.51 0 1.02-.2 1.41-.59l7.78-7.78 2.81-2.81c.8-.78.8-2.07 0-2.86zM5.41 20L4 18.59l7.72-7.72 1.47 1.35L5.41 20z\"/>\n",
              "  </svg>\n",
              "      </button>\n",
              "      \n",
              "  <style>\n",
              "    .colab-df-container {\n",
              "      display:flex;\n",
              "      flex-wrap:wrap;\n",
              "      gap: 12px;\n",
              "    }\n",
              "\n",
              "    .colab-df-convert {\n",
              "      background-color: #E8F0FE;\n",
              "      border: none;\n",
              "      border-radius: 50%;\n",
              "      cursor: pointer;\n",
              "      display: none;\n",
              "      fill: #1967D2;\n",
              "      height: 32px;\n",
              "      padding: 0 0 0 0;\n",
              "      width: 32px;\n",
              "    }\n",
              "\n",
              "    .colab-df-convert:hover {\n",
              "      background-color: #E2EBFA;\n",
              "      box-shadow: 0px 1px 2px rgba(60, 64, 67, 0.3), 0px 1px 3px 1px rgba(60, 64, 67, 0.15);\n",
              "      fill: #174EA6;\n",
              "    }\n",
              "\n",
              "    [theme=dark] .colab-df-convert {\n",
              "      background-color: #3B4455;\n",
              "      fill: #D2E3FC;\n",
              "    }\n",
              "\n",
              "    [theme=dark] .colab-df-convert:hover {\n",
              "      background-color: #434B5C;\n",
              "      box-shadow: 0px 1px 3px 1px rgba(0, 0, 0, 0.15);\n",
              "      filter: drop-shadow(0px 1px 2px rgba(0, 0, 0, 0.3));\n",
              "      fill: #FFFFFF;\n",
              "    }\n",
              "  </style>\n",
              "\n",
              "      <script>\n",
              "        const buttonEl =\n",
              "          document.querySelector('#df-cb99a7aa-7ea7-44ed-923e-8b2a6efabdbb button.colab-df-convert');\n",
              "        buttonEl.style.display =\n",
              "          google.colab.kernel.accessAllowed ? 'block' : 'none';\n",
              "\n",
              "        async function convertToInteractive(key) {\n",
              "          const element = document.querySelector('#df-cb99a7aa-7ea7-44ed-923e-8b2a6efabdbb');\n",
              "          const dataTable =\n",
              "            await google.colab.kernel.invokeFunction('convertToInteractive',\n",
              "                                                     [key], {});\n",
              "          if (!dataTable) return;\n",
              "\n",
              "          const docLinkHtml = 'Like what you see? Visit the ' +\n",
              "            '<a target=\"_blank\" href=https://colab.research.google.com/notebooks/data_table.ipynb>data table notebook</a>'\n",
              "            + ' to learn more about interactive tables.';\n",
              "          element.innerHTML = '';\n",
              "          dataTable['output_type'] = 'display_data';\n",
              "          await google.colab.output.renderOutput(dataTable, element);\n",
              "          const docLink = document.createElement('div');\n",
              "          docLink.innerHTML = docLinkHtml;\n",
              "          element.appendChild(docLink);\n",
              "        }\n",
              "      </script>\n",
              "    </div>\n",
              "  </div>\n",
              "  "
            ]
          },
          "metadata": {},
          "execution_count": 7
        }
      ],
      "source": [
        "test= pd.read_csv('/content/drive/MyDrive/Cyberlabs- ML/linear_data/Linear_test.csv')\n",
        "test.head()"
      ]
    },
    {
      "cell_type": "code",
      "execution_count": null,
      "metadata": {
        "id": "QuK4XfKhiQ9o",
        "colab": {
          "base_uri": "https://localhost:8080/"
        },
        "outputId": "841a628c-59e1-4002-fa86-befb2b6925eb"
      },
      "outputs": [
        {
          "output_type": "stream",
          "name": "stdout",
          "text": [
            "(50000, 20)\n"
          ]
        },
        {
          "output_type": "execute_result",
          "data": {
            "text/plain": [
              "(50000, 1)"
            ]
          },
          "metadata": {},
          "execution_count": 8
        }
      ],
      "source": [
        "l= train.shape[1]\n",
        "X_train= train.iloc[:, 1:l-1]\n",
        "y_train= train.iloc[:, l-1]\n",
        "m=train.shape[0]\n",
        "X_train= X_train.to_numpy()\n",
        "y_train= y_train.to_numpy()\n",
        "y_train= y_train.reshape(X_train.shape[0], 1)\n",
        "print(X_train.shape)\n",
        "y_train.shape"
      ]
    },
    {
      "cell_type": "code",
      "execution_count": null,
      "metadata": {
        "colab": {
          "base_uri": "https://localhost:8080/"
        },
        "id": "qJGenVbIp3k7",
        "outputId": "97457ad1-b26b-420d-8935-c7e96c69322c"
      },
      "outputs": [
        {
          "output_type": "execute_result",
          "data": {
            "text/plain": [
              "[<matplotlib.lines.Line2D at 0x7fbcfdcf1cd0>,\n",
              " <matplotlib.lines.Line2D at 0x7fbcfdcf1f10>,\n",
              " <matplotlib.lines.Line2D at 0x7fbcfdcf1e50>,\n",
              " <matplotlib.lines.Line2D at 0x7fbcfdcfe2d0>,\n",
              " <matplotlib.lines.Line2D at 0x7fbcfdcfe490>,\n",
              " <matplotlib.lines.Line2D at 0x7fbcfdcfe410>,\n",
              " <matplotlib.lines.Line2D at 0x7fbcfdcfe850>,\n",
              " <matplotlib.lines.Line2D at 0x7fbcfdcfea10>,\n",
              " <matplotlib.lines.Line2D at 0x7fbcfdcfebd0>,\n",
              " <matplotlib.lines.Line2D at 0x7fbcfdcfe650>,\n",
              " <matplotlib.lines.Line2D at 0x7fbcfdcfef10>,\n",
              " <matplotlib.lines.Line2D at 0x7fbcfdcfee90>,\n",
              " <matplotlib.lines.Line2D at 0x7fbcfdd012d0>,\n",
              " <matplotlib.lines.Line2D at 0x7fbcfdd01490>,\n",
              " <matplotlib.lines.Line2D at 0x7fbcfdd01650>,\n",
              " <matplotlib.lines.Line2D at 0x7fbcfdd01810>,\n",
              " <matplotlib.lines.Line2D at 0x7fbcfdd019d0>,\n",
              " <matplotlib.lines.Line2D at 0x7fbcfdd01b90>,\n",
              " <matplotlib.lines.Line2D at 0x7fbcfdd01d50>,\n",
              " <matplotlib.lines.Line2D at 0x7fbcfdd01f10>]"
            ]
          },
          "metadata": {},
          "execution_count": 9
        },
        {
          "output_type": "display_data",
          "data": {
            "text/plain": [
              "<Figure size 432x288 with 1 Axes>"
            ],
            "image/png": "[encoded data removed]"
          },
          "metadata": {
            "needs_background": "light"
          }
        }
      ],
      "source": [
        "plt.plot(X_train, y_train, 'rx')"
      ]
    },
    {
      "cell_type": "code",
      "execution_count": null,
      "metadata": {
        "id": "5D9mSuFGupbc"
      },
      "outputs": [],
      "source": [
        "def featureNormalization(X):\n",
        "  X_norm= X\n",
        "  mu=np.mean(X, axis=0)\n",
        "  sigma= np.std(X, axis=0)\n",
        "  X_norm= (X- mu)/sigma \n",
        "\n",
        "  return [X_norm, mu, sigma]"
      ]
    },
    {
      "cell_type": "code",
      "execution_count": null,
      "metadata": {
        "id": "RDuU6SXBz-vz"
      },
      "outputs": [],
      "source": [
        "[X_train, mu, sigma] = featureNormalization(X_train)"
      ]
    },
    {
      "cell_type": "code",
      "execution_count": null,
      "metadata": {
        "colab": {
          "base_uri": "https://localhost:8080/"
        },
        "id": "uh4oqboiGUqg",
        "outputId": "1776087b-c74e-43f9-c1da-ed499198586d"
      },
      "outputs": [
        {
          "output_type": "stream",
          "name": "stdout",
          "text": [
            "21\n"
          ]
        }
      ],
      "source": [
        "X_train= np.c_[np.ones(m), X_train]\n",
        "n= X_train.shape[1]\n",
        "print(n)"
      ]
    },
    {
      "cell_type": "code",
      "execution_count": null,
      "metadata": {
        "id": "m7dVrCjdOMJi"
      },
      "outputs": [],
      "source": [
        "def computeCost(X_train, y_train, theta):\n",
        "  m= y_train.shape[0]\n",
        "  J=0\n",
        "  predictions= np.dot(X_train, theta)\n",
        "  J= 1/(2*m) * np.sum(np.square(predictions-y_train))\n",
        "  return J"
      ]
    },
    {
      "cell_type": "code",
      "execution_count": null,
      "metadata": {
        "id": "5AXLhylnSl8M"
      },
      "outputs": [],
      "source": [
        "def gradientDescent(X_train, y_train, theta, alpha, num_iters):\n",
        "  m= y_train.shape[0]\n",
        "  J_history= np.zeros((num_iters, 1))\n",
        "\n",
        "  for iter in range(0, num_iters-1):\n",
        "    predictions= np.dot(X_train, theta)\n",
        "    predictions.shape\n",
        "    delta= np.dot(X_train.T, predictions - y_train)/m\n",
        "    delta.shape\n",
        "    theta= theta - alpha*delta\n",
        "    J_history[iter]= computeCost(X_train, y_train, theta)\n",
        "\n",
        "  return [theta, J_history]"
      ]
    },
    {
      "cell_type": "code",
      "execution_count": null,
      "metadata": {
        "id": "jgvRnEcpVuSk",
        "colab": {
          "base_uri": "https://localhost:8080/"
        },
        "outputId": "12e774f4-1b08-48b4-c6cf-afc2bad58fee"
      },
      "outputs": [
        {
          "output_type": "stream",
          "name": "stdout",
          "text": [
            "Theta calculated from gradient descent is  [[ 1537.40898405]\n",
            " [  374.84297316]\n",
            " [   57.66355878]\n",
            " [ -780.65390906]\n",
            " [  230.87239175]\n",
            " [ 1068.01409067]\n",
            " [   87.20446456]\n",
            " [  548.72479312]\n",
            " [ -837.63793397]\n",
            " [   34.67370773]\n",
            " [  662.52453914]\n",
            " [  896.38283869]\n",
            " [   86.47649282]\n",
            " [-2631.25005955]\n",
            " [  980.57481622]\n",
            " [ 1301.44464438]\n",
            " [ 1476.95436293]\n",
            " [  693.42415381]\n",
            " [  -29.25523734]\n",
            " [ 2746.11651838]\n",
            " [  723.36220031]]\n"
          ]
        },
        {
          "output_type": "execute_result",
          "data": {
            "text/plain": [
              "(21, 1)"
            ]
          },
          "metadata": {},
          "execution_count": 15
        }
      ],
      "source": [
        "alpha = 0.01\n",
        "num_iters= 10000\n",
        "theta= np.zeros((n, 1))\n",
        "J_hist= np.zeros((num_iters, 1))\n",
        "[theta, J_hist]= gradientDescent(X_train, y_train, theta, alpha, num_iters)\n",
        "print(\"Theta calculated from gradient descent is \", theta)\n",
        "theta.shape"
      ]
    },
    {
      "cell_type": "code",
      "source": [
        "print(J_hist)\n",
        "plt.plot(range(num_iters), J_hist, 'bx')"
      ],
      "metadata": {
        "colab": {
          "base_uri": "https://localhost:8080/"
        },
        "id": "AsPDuaSgf2ZY",
        "outputId": "3c0c7b54-0ab7-4099-9987-083fdaea8862"
      },
      "execution_count": null,
      "outputs": [
        {
          "output_type": "stream",
          "name": "stdout",
          "text": [
            "[[1.31325623e+07]\n",
            " [1.28720123e+07]\n",
            " [1.26166340e+07]\n",
            " ...\n",
            " [1.90709867e+03]\n",
            " [1.90709867e+03]\n",
            " [0.00000000e+00]]\n"
          ]
        },
        {
          "output_type": "execute_result",
          "data": {
            "text/plain": [
              "[<matplotlib.lines.Line2D at 0x7fbcfd7b6690>]"
            ]
          },
          "metadata": {},
          "execution_count": 16
        },
        {
          "output_type": "display_data",
          "data": {
            "text/plain": [
              "<Figure size 432x288 with 1 Axes>"
            ],
            "image/png": "[encoded data removed]"
          },
          "metadata": {
            "needs_background": "light"
          }
        }
      ]
    },
    {
      "cell_type": "code",
      "source": [
        "k= test.shape[1]\n",
        "X_test= test.iloc[:, 1:l-1]\n",
        "y_test= test.iloc[:, l-1]\n",
        "m=test.shape[0]\n",
        "\n",
        "X_test= X_test.to_numpy()\n",
        "y_test= y_test.to_numpy()\n",
        "y_test= y_test.reshape(X_test.shape[0], 1)\n",
        "\n",
        "print(X_test.shape)\n",
        "y_test.shape"
      ],
      "metadata": {
        "colab": {
          "base_uri": "https://localhost:8080/"
        },
        "id": "HhnpIE74mE8Q",
        "outputId": "18e91446-0adc-4029-8aa5-a18629949de9"
      },
      "execution_count": null,
      "outputs": [
        {
          "output_type": "stream",
          "name": "stdout",
          "text": [
            "(10000, 20)\n"
          ]
        },
        {
          "output_type": "execute_result",
          "data": {
            "text/plain": [
              "(10000, 1)"
            ]
          },
          "metadata": {},
          "execution_count": 17
        }
      ]
    },
    {
      "cell_type": "code",
      "source": [
        "X_test = (X_test - mu)/sigma \n",
        "X_test "
      ],
      "metadata": {
        "colab": {
          "base_uri": "https://localhost:8080/"
        },
        "id": "SoZZErUl_daP",
        "outputId": "315d74f0-574f-47ec-8c36-fec804a472d5"
      },
      "execution_count": null,
      "outputs": [
        {
          "output_type": "execute_result",
          "data": {
            "text/plain": [
              "array([[ 1.40975807, -1.08657594, -1.00024254, ..., -0.6870117 ,\n",
              "        -0.19141266, -0.97090816],\n",
              "       [ 1.65822395, -0.00972035,  0.86387877, ...,  0.95560992,\n",
              "         0.74278028, -0.83440791],\n",
              "       [ 0.3357217 , -0.64134445,  0.04188196, ..., -1.5846549 ,\n",
              "        -1.71519115,  1.27084306],\n",
              "       ...,\n",
              "       [-1.20453086,  0.44808546,  0.94820239, ..., -0.24726467,\n",
              "        -0.87742582,  1.62852991],\n",
              "       [-1.06669707,  0.3768393 , -1.30168464, ...,  1.28587727,\n",
              "        -0.96740849, -0.63625988],\n",
              "       [ 1.37400893, -0.48664112, -0.25751637, ...,  1.31957967,\n",
              "        -0.0979464 , -1.33366307]])"
            ]
          },
          "metadata": {},
          "execution_count": 18
        }
      ]
    },
    {
      "cell_type": "code",
      "source": [
        "X_test= np.c_[np.ones(m), X_test]\n",
        "n= X_test.shape[1]\n",
        "print(n)"
      ],
      "metadata": {
        "colab": {
          "base_uri": "https://localhost:8080/"
        },
        "id": "wrefL5mYoqQL",
        "outputId": "0dcf6a46-e1a9-4ee5-8c1a-6c5c670ea956"
      },
      "execution_count": null,
      "outputs": [
        {
          "output_type": "stream",
          "name": "stdout",
          "text": [
            "21\n"
          ]
        }
      ]
    },
    {
      "cell_type": "code",
      "source": [
        "plt.plot(X_test, y_test, 'rx')"
      ],
      "metadata": {
        "colab": {
          "base_uri": "https://localhost:8080/"
        },
        "id": "j_8dGSVY8gDt",
        "outputId": "ab62b5f0-8000-40cf-d6e5-0c858cd4fd88"
      },
      "execution_count": null,
      "outputs": [
        {
          "output_type": "execute_result",
          "data": {
            "text/plain": [
              "[<matplotlib.lines.Line2D at 0x7fbcfaf312d0>,\n",
              " <matplotlib.lines.Line2D at 0x7fbcfaf31510>,\n",
              " <matplotlib.lines.Line2D at 0x7fbcfaf316d0>,\n",
              " <matplotlib.lines.Line2D at 0x7fbcfaf31890>,\n",
              " <matplotlib.lines.Line2D at 0x7fbcfaf31a50>,\n",
              " <matplotlib.lines.Line2D at 0x7fbcfaf319d0>,\n",
              " <matplotlib.lines.Line2D at 0x7fbcfaf31e10>,\n",
              " <matplotlib.lines.Line2D at 0x7fbcfaf31fd0>,\n",
              " <matplotlib.lines.Line2D at 0x7fbcfaf31f50>,\n",
              " <matplotlib.lines.Line2D at 0x7fbcfaf31c10>,\n",
              " <matplotlib.lines.Line2D at 0x7fbcfaf37510>,\n",
              " <matplotlib.lines.Line2D at 0x7fbcfaf376d0>,\n",
              " <matplotlib.lines.Line2D at 0x7fbcfaf37890>,\n",
              " <matplotlib.lines.Line2D at 0x7fbcfaf37a50>,\n",
              " <matplotlib.lines.Line2D at 0x7fbcfaf37c10>,\n",
              " <matplotlib.lines.Line2D at 0x7fbcfaf37dd0>,\n",
              " <matplotlib.lines.Line2D at 0x7fbcfaf37f90>,\n",
              " <matplotlib.lines.Line2D at 0x7fbcfaf37f10>,\n",
              " <matplotlib.lines.Line2D at 0x7fbcfaf3b350>,\n",
              " <matplotlib.lines.Line2D at 0x7fbcfaf3b510>,\n",
              " <matplotlib.lines.Line2D at 0x7fbcfaf3b6d0>]"
            ]
          },
          "metadata": {},
          "execution_count": 20
        },
        {
          "output_type": "display_data",
          "data": {
            "text/plain": [
              "<Figure size 432x288 with 1 Axes>"
            ],
            "image/png": "[encoded data removed]"
          },
          "metadata": {
            "needs_background": "light"
          }
        }
      ]
    },
    {
      "cell_type": "code",
      "source": [
        "y_predict = np.dot(X_test, theta)\n",
        "l= y_predict.shape"
      ],
      "metadata": {
        "id": "9I51LjupmhjD"
      },
      "execution_count": null,
      "outputs": []
    },
    {
      "cell_type": "code",
      "source": [
        "mean_y_predict= np.mean(y_predict) * np.ones(l)\n",
        "mean_y_test = np.mean(y_test) * np.ones(l)\n",
        "accuracy = np.sum(np.square(y_predict - mean_y_predict)) / np.sum(np.square(y_test - mean_y_test)) * 100\n",
        "print(accuracy)"
      ],
      "metadata": {
        "colab": {
          "base_uri": "https://localhost:8080/"
        },
        "id": "LdQj-pIc1RcP",
        "outputId": "495dea83-5e1f-490d-f4f6-4a6997ddd46d"
      },
      "execution_count": null,
      "outputs": [
        {
          "output_type": "stream",
          "name": "stdout",
          "text": [
            "99.98442763676978\n"
          ]
        }
      ]
    }
  ],
  "metadata": {
    "colab": {
      "collapsed_sections": [],
      "name": "Linear Model.ipynb",
      "provenance": []
    },
    "kernelspec": {
      "display_name": "Python 3",
      "name": "python3"
    },
    "language_info": {
      "name": "python"
    }
  },
  "nbformat": 4,
  "nbformat_minor": 0
}