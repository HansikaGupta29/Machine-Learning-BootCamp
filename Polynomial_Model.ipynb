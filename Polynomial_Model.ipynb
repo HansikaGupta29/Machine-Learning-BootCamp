{
  "nbformat": 4,
  "nbformat_minor": 0,
  "metadata": {
    "colab": {
      "name": "Polynomial Model.ipynb",
      "provenance": []
    },
    "kernelspec": {
      "name": "python3",
      "display_name": "Python 3"
    },
    "language_info": {
      "name": "python"
    }
  },
  "cells": [
    {
      "cell_type": "code",
      "execution_count": null,
      "metadata": {
        "id": "nI44vAUh4clD"
      },
      "outputs": [],
      "source": [
        "import pandas as pd\n",
        "import numpy as np\n",
        "import matplotlib.pyplot as plt"
      ]
    },
    {
      "cell_type": "code",
      "source": [
        "from google.colab import drive\n",
        "drive.mount('/content/drive')"
      ],
      "metadata": {
        "colab": {
          "base_uri": "https://localhost:8080/"
        },
        "id": "BQ0yJ_CioHFR",
        "outputId": "32f316c7-137d-481c-8b15-0f9b4fb163f3"
      },
      "execution_count": null,
      "outputs": [
        {
          "output_type": "stream",
          "name": "stdout",
          "text": [
            "Drive already mounted at /content/drive; to attempt to forcibly remount, call drive.mount(\"/content/drive\", force_remount=True).\n"
          ]
        }
      ]
    },
    {
      "cell_type": "code",
      "source": [
        "train = pd.read_csv('/content/drive/MyDrive/Cyberlabs- ML/polynomial_data/Polynomial_train.csv')\n",
        "train.head()"
      ],
      "metadata": {
        "colab": {
          "base_uri": "https://localhost:8080/",
          "height": 206
        },
        "id": "ncTgwPMxoH9t",
        "outputId": "e1a3585e-a8b6-40d9-b1a9-cf2a1b6bd956"
      },
      "execution_count": null,
      "outputs": [
        {
          "output_type": "execute_result",
          "data": {
            "text/plain": [
              "   Unnamed: 0         X         Y         Z       label\n",
              "0           0  0.643715 -9.866550 -5.836019  307.972927\n",
              "1           1 -1.366446 -3.761945 -8.756162  136.398375\n",
              "2           2 -4.090270 -1.836218 -1.846066 -310.724813\n",
              "3           3 -8.730478 -1.923651  3.892972    1.755447\n",
              "4           4  5.367169  0.358357  6.703989 -343.582590"
            ],
            "text/html": [
              "\n",
              "  <div id=\"df-a872ac8c-cd67-4038-97b4-0b5974d0999d\">\n",
              "    <div class=\"colab-df-container\">\n",
              "      <div>\n",
              "<style scoped>\n",
              "    .dataframe tbody tr th:only-of-type {\n",
              "        vertical-align: middle;\n",
              "    }\n",
              "\n",
              "    .dataframe tbody tr th {\n",
              "        vertical-align: top;\n",
              "    }\n",
              "\n",
              "    .dataframe thead th {\n",
              "        text-align: right;\n",
              "    }\n",
              "</style>\n",
              "<table border=\"1\" class=\"dataframe\">\n",
              "  <thead>\n",
              "    <tr style=\"text-align: right;\">\n",
              "      <th></th>\n",
              "      <th>Unnamed: 0</th>\n",
              "      <th>X</th>\n",
              "      <th>Y</th>\n",
              "      <th>Z</th>\n",
              "      <th>label</th>\n",
              "    </tr>\n",
              "  </thead>\n",
              "  <tbody>\n",
              "    <tr>\n",
              "      <th>0</th>\n",
              "      <td>0</td>\n",
              "      <td>0.643715</td>\n",
              "      <td>-9.866550</td>\n",
              "      <td>-5.836019</td>\n",
              "      <td>307.972927</td>\n",
              "    </tr>\n",
              "    <tr>\n",
              "      <th>1</th>\n",
              "      <td>1</td>\n",
              "      <td>-1.366446</td>\n",
              "      <td>-3.761945</td>\n",
              "      <td>-8.756162</td>\n",
              "      <td>136.398375</td>\n",
              "    </tr>\n",
              "    <tr>\n",
              "      <th>2</th>\n",
              "      <td>2</td>\n",
              "      <td>-4.090270</td>\n",
              "      <td>-1.836218</td>\n",
              "      <td>-1.846066</td>\n",
              "      <td>-310.724813</td>\n",
              "    </tr>\n",
              "    <tr>\n",
              "      <th>3</th>\n",
              "      <td>3</td>\n",
              "      <td>-8.730478</td>\n",
              "      <td>-1.923651</td>\n",
              "      <td>3.892972</td>\n",
              "      <td>1.755447</td>\n",
              "    </tr>\n",
              "    <tr>\n",
              "      <th>4</th>\n",
              "      <td>4</td>\n",
              "      <td>5.367169</td>\n",
              "      <td>0.358357</td>\n",
              "      <td>6.703989</td>\n",
              "      <td>-343.582590</td>\n",
              "    </tr>\n",
              "  </tbody>\n",
              "</table>\n",
              "</div>\n",
              "      <button class=\"colab-df-convert\" onclick=\"convertToInteractive('df-a872ac8c-cd67-4038-97b4-0b5974d0999d')\"\n",
              "              title=\"Convert this dataframe to an interactive table.\"\n",
              "              style=\"display:none;\">\n",
              "        \n",
              "  <svg xmlns=\"http://www.w3.org/2000/svg\" height=\"24px\"viewBox=\"0 0 24 24\"\n",
              "       width=\"24px\">\n",
              "    <path d=\"M0 0h24v24H0V0z\" fill=\"none\"/>\n",
              "    <path d=\"M18.56 5.44l.94 2.06.94-2.06 2.06-.94-2.06-.94-.94-2.06-.94 2.06-2.06.94zm-11 1L8.5 8.5l.94-2.06 2.06-.94-2.06-.94L8.5 2.5l-.94 2.06-2.06.94zm10 10l.94 2.06.94-2.06 2.06-.94-2.06-.94-.94-2.06-.94 2.06-2.06.94z\"/><path d=\"M17.41 7.96l-1.37-1.37c-.4-.4-.92-.59-1.43-.59-.52 0-1.04.2-1.43.59L10.3 9.45l-7.72 7.72c-.78.78-.78 2.05 0 2.83L4 21.41c.39.39.9.59 1.41.59.51 0 1.02-.2 1.41-.59l7.78-7.78 2.81-2.81c.8-.78.8-2.07 0-2.86zM5.41 20L4 18.59l7.72-7.72 1.47 1.35L5.41 20z\"/>\n",
              "  </svg>\n",
              "      </button>\n",
              "      \n",
              "  <style>\n",
              "    .colab-df-container {\n",
              "      display:flex;\n",
              "      flex-wrap:wrap;\n",
              "      gap: 12px;\n",
              "    }\n",
              "\n",
              "    .colab-df-convert {\n",
              "      background-color: #E8F0FE;\n",
              "      border: none;\n",
              "      border-radius: 50%;\n",
              "      cursor: pointer;\n",
              "      display: none;\n",
              "      fill: #1967D2;\n",
              "      height: 32px;\n",
              "      padding: 0 0 0 0;\n",
              "      width: 32px;\n",
              "    }\n",
              "\n",
              "    .colab-df-convert:hover {\n",
              "      background-color: #E2EBFA;\n",
              "      box-shadow: 0px 1px 2px rgba(60, 64, 67, 0.3), 0px 1px 3px 1px rgba(60, 64, 67, 0.15);\n",
              "      fill: #174EA6;\n",
              "    }\n",
              "\n",
              "    [theme=dark] .colab-df-convert {\n",
              "      background-color: #3B4455;\n",
              "      fill: #D2E3FC;\n",
              "    }\n",
              "\n",
              "    [theme=dark] .colab-df-convert:hover {\n",
              "      background-color: #434B5C;\n",
              "      box-shadow: 0px 1px 3px 1px rgba(0, 0, 0, 0.15);\n",
              "      filter: drop-shadow(0px 1px 2px rgba(0, 0, 0, 0.3));\n",
              "      fill: #FFFFFF;\n",
              "    }\n",
              "  </style>\n",
              "\n",
              "      <script>\n",
              "        const buttonEl =\n",
              "          document.querySelector('#df-a872ac8c-cd67-4038-97b4-0b5974d0999d button.colab-df-convert');\n",
              "        buttonEl.style.display =\n",
              "          google.colab.kernel.accessAllowed ? 'block' : 'none';\n",
              "\n",
              "        async function convertToInteractive(key) {\n",
              "          const element = document.querySelector('#df-a872ac8c-cd67-4038-97b4-0b5974d0999d');\n",
              "          const dataTable =\n",
              "            await google.colab.kernel.invokeFunction('convertToInteractive',\n",
              "                                                     [key], {});\n",
              "          if (!dataTable) return;\n",
              "\n",
              "          const docLinkHtml = 'Like what you see? Visit the ' +\n",
              "            '<a target=\"_blank\" href=https://colab.research.google.com/notebooks/data_table.ipynb>data table notebook</a>'\n",
              "            + ' to learn more about interactive tables.';\n",
              "          element.innerHTML = '';\n",
              "          dataTable['output_type'] = 'display_data';\n",
              "          await google.colab.output.renderOutput(dataTable, element);\n",
              "          const docLink = document.createElement('div');\n",
              "          docLink.innerHTML = docLinkHtml;\n",
              "          element.appendChild(docLink);\n",
              "        }\n",
              "      </script>\n",
              "    </div>\n",
              "  </div>\n",
              "  "
            ]
          },
          "metadata": {},
          "execution_count": 6
        }
      ]
    },
    {
      "cell_type": "code",
      "source": [
        "test = pd.read_csv('/content/drive/MyDrive/Cyberlabs- ML/polynomial_data/Polynomial_test.csv')\n",
        "test.head()"
      ],
      "metadata": {
        "colab": {
          "base_uri": "https://localhost:8080/",
          "height": 206
        },
        "id": "9JGH-AeWothb",
        "outputId": "4dd65ef9-223f-458c-9857-d6103fed6f88"
      },
      "execution_count": null,
      "outputs": [
        {
          "output_type": "execute_result",
          "data": {
            "text/plain": [
              "   Unnamed: 0         X         Y         Z        label\n",
              "0           0  9.322078  0.413096  5.984731  -657.669309\n",
              "1           1  2.811964  6.142752  6.419237  -545.362524\n",
              "2           2 -2.669784  7.775091 -6.931907   -75.044187\n",
              "3           3 -6.992156 -9.205548  0.852580 -2403.124902\n",
              "4           4  1.574294 -2.213266  6.029188     8.595325"
            ],
            "text/html": [
              "\n",
              "  <div id=\"df-19e66e18-5e70-409e-a8a5-8578d0bc8bef\">\n",
              "    <div class=\"colab-df-container\">\n",
              "      <div>\n",
              "<style scoped>\n",
              "    .dataframe tbody tr th:only-of-type {\n",
              "        vertical-align: middle;\n",
              "    }\n",
              "\n",
              "    .dataframe tbody tr th {\n",
              "        vertical-align: top;\n",
              "    }\n",
              "\n",
              "    .dataframe thead th {\n",
              "        text-align: right;\n",
              "    }\n",
              "</style>\n",
              "<table border=\"1\" class=\"dataframe\">\n",
              "  <thead>\n",
              "    <tr style=\"text-align: right;\">\n",
              "      <th></th>\n",
              "      <th>Unnamed: 0</th>\n",
              "      <th>X</th>\n",
              "      <th>Y</th>\n",
              "      <th>Z</th>\n",
              "      <th>label</th>\n",
              "    </tr>\n",
              "  </thead>\n",
              "  <tbody>\n",
              "    <tr>\n",
              "      <th>0</th>\n",
              "      <td>0</td>\n",
              "      <td>9.322078</td>\n",
              "      <td>0.413096</td>\n",
              "      <td>5.984731</td>\n",
              "      <td>-657.669309</td>\n",
              "    </tr>\n",
              "    <tr>\n",
              "      <th>1</th>\n",
              "      <td>1</td>\n",
              "      <td>2.811964</td>\n",
              "      <td>6.142752</td>\n",
              "      <td>6.419237</td>\n",
              "      <td>-545.362524</td>\n",
              "    </tr>\n",
              "    <tr>\n",
              "      <th>2</th>\n",
              "      <td>2</td>\n",
              "      <td>-2.669784</td>\n",
              "      <td>7.775091</td>\n",
              "      <td>-6.931907</td>\n",
              "      <td>-75.044187</td>\n",
              "    </tr>\n",
              "    <tr>\n",
              "      <th>3</th>\n",
              "      <td>3</td>\n",
              "      <td>-6.992156</td>\n",
              "      <td>-9.205548</td>\n",
              "      <td>0.852580</td>\n",
              "      <td>-2403.124902</td>\n",
              "    </tr>\n",
              "    <tr>\n",
              "      <th>4</th>\n",
              "      <td>4</td>\n",
              "      <td>1.574294</td>\n",
              "      <td>-2.213266</td>\n",
              "      <td>6.029188</td>\n",
              "      <td>8.595325</td>\n",
              "    </tr>\n",
              "  </tbody>\n",
              "</table>\n",
              "</div>\n",
              "      <button class=\"colab-df-convert\" onclick=\"convertToInteractive('df-19e66e18-5e70-409e-a8a5-8578d0bc8bef')\"\n",
              "              title=\"Convert this dataframe to an interactive table.\"\n",
              "              style=\"display:none;\">\n",
              "        \n",
              "  <svg xmlns=\"http://www.w3.org/2000/svg\" height=\"24px\"viewBox=\"0 0 24 24\"\n",
              "       width=\"24px\">\n",
              "    <path d=\"M0 0h24v24H0V0z\" fill=\"none\"/>\n",
              "    <path d=\"M18.56 5.44l.94 2.06.94-2.06 2.06-.94-2.06-.94-.94-2.06-.94 2.06-2.06.94zm-11 1L8.5 8.5l.94-2.06 2.06-.94-2.06-.94L8.5 2.5l-.94 2.06-2.06.94zm10 10l.94 2.06.94-2.06 2.06-.94-2.06-.94-.94-2.06-.94 2.06-2.06.94z\"/><path d=\"M17.41 7.96l-1.37-1.37c-.4-.4-.92-.59-1.43-.59-.52 0-1.04.2-1.43.59L10.3 9.45l-7.72 7.72c-.78.78-.78 2.05 0 2.83L4 21.41c.39.39.9.59 1.41.59.51 0 1.02-.2 1.41-.59l7.78-7.78 2.81-2.81c.8-.78.8-2.07 0-2.86zM5.41 20L4 18.59l7.72-7.72 1.47 1.35L5.41 20z\"/>\n",
              "  </svg>\n",
              "      </button>\n",
              "      \n",
              "  <style>\n",
              "    .colab-df-container {\n",
              "      display:flex;\n",
              "      flex-wrap:wrap;\n",
              "      gap: 12px;\n",
              "    }\n",
              "\n",
              "    .colab-df-convert {\n",
              "      background-color: #E8F0FE;\n",
              "      border: none;\n",
              "      border-radius: 50%;\n",
              "      cursor: pointer;\n",
              "      display: none;\n",
              "      fill: #1967D2;\n",
              "      height: 32px;\n",
              "      padding: 0 0 0 0;\n",
              "      width: 32px;\n",
              "    }\n",
              "\n",
              "    .colab-df-convert:hover {\n",
              "      background-color: #E2EBFA;\n",
              "      box-shadow: 0px 1px 2px rgba(60, 64, 67, 0.3), 0px 1px 3px 1px rgba(60, 64, 67, 0.15);\n",
              "      fill: #174EA6;\n",
              "    }\n",
              "\n",
              "    [theme=dark] .colab-df-convert {\n",
              "      background-color: #3B4455;\n",
              "      fill: #D2E3FC;\n",
              "    }\n",
              "\n",
              "    [theme=dark] .colab-df-convert:hover {\n",
              "      background-color: #434B5C;\n",
              "      box-shadow: 0px 1px 3px 1px rgba(0, 0, 0, 0.15);\n",
              "      filter: drop-shadow(0px 1px 2px rgba(0, 0, 0, 0.3));\n",
              "      fill: #FFFFFF;\n",
              "    }\n",
              "  </style>\n",
              "\n",
              "      <script>\n",
              "        const buttonEl =\n",
              "          document.querySelector('#df-19e66e18-5e70-409e-a8a5-8578d0bc8bef button.colab-df-convert');\n",
              "        buttonEl.style.display =\n",
              "          google.colab.kernel.accessAllowed ? 'block' : 'none';\n",
              "\n",
              "        async function convertToInteractive(key) {\n",
              "          const element = document.querySelector('#df-19e66e18-5e70-409e-a8a5-8578d0bc8bef');\n",
              "          const dataTable =\n",
              "            await google.colab.kernel.invokeFunction('convertToInteractive',\n",
              "                                                     [key], {});\n",
              "          if (!dataTable) return;\n",
              "\n",
              "          const docLinkHtml = 'Like what you see? Visit the ' +\n",
              "            '<a target=\"_blank\" href=https://colab.research.google.com/notebooks/data_table.ipynb>data table notebook</a>'\n",
              "            + ' to learn more about interactive tables.';\n",
              "          element.innerHTML = '';\n",
              "          dataTable['output_type'] = 'display_data';\n",
              "          await google.colab.output.renderOutput(dataTable, element);\n",
              "          const docLink = document.createElement('div');\n",
              "          docLink.innerHTML = docLinkHtml;\n",
              "          element.appendChild(docLink);\n",
              "        }\n",
              "      </script>\n",
              "    </div>\n",
              "  </div>\n",
              "  "
            ]
          },
          "metadata": {},
          "execution_count": 7
        }
      ]
    },
    {
      "cell_type": "code",
      "source": [
        "l= train.shape[1]\n",
        "X_train= train.iloc[:, 1:l-1]\n",
        "y_train= train.iloc[:, l-1]\n",
        "\n",
        "X_train= X_train.to_numpy()\n",
        "y_train= y_train.to_numpy()\n",
        "y_train= y_train.reshape(X_train.shape[0], 1)\n",
        "\n",
        "m= X_train.shape[0]\n",
        "n= X_train.shape[1]\n",
        "\n",
        "print(X_train.shape)\n",
        "print(y_train.shape)\n",
        "print(m)\n",
        "print(n)"
      ],
      "metadata": {
        "colab": {
          "base_uri": "https://localhost:8080/"
        },
        "id": "8_ORs41jpDdO",
        "outputId": "1887a52e-a649-42b2-e459-4e3aa88a7271"
      },
      "execution_count": null,
      "outputs": [
        {
          "output_type": "stream",
          "name": "stdout",
          "text": [
            "(50000, 3)\n",
            "(50000, 1)\n",
            "50000\n",
            "3\n"
          ]
        }
      ]
    },
    {
      "cell_type": "code",
      "source": [
        "plt.plot(X_train, y_train, 'bx')"
      ],
      "metadata": {
        "colab": {
          "base_uri": "https://localhost:8080/",
          "height": 317
        },
        "id": "hVs2L5CapU6x",
        "outputId": "30a9d335-a425-4018-d1ff-9af55f07a39b"
      },
      "execution_count": null,
      "outputs": [
        {
          "output_type": "execute_result",
          "data": {
            "text/plain": [
              "[<matplotlib.lines.Line2D at 0x7f0d157d9d10>,\n",
              " <matplotlib.lines.Line2D at 0x7f0d157d9f50>,\n",
              " <matplotlib.lines.Line2D at 0x7f0d157d9e90>]"
            ]
          },
          "metadata": {},
          "execution_count": 9
        },
        {
          "output_type": "display_data",
          "data": {
            "text/plain": [
              "<Figure size 432x288 with 1 Axes>"
            ],
            "image/png": "[encoded data removed]"
          },
          "metadata": {
            "needs_background": "light"
          }
        }
      ]
    },
    {
      "cell_type": "code",
      "source": [
        "def featureNormalization(X):\n",
        "  X_norm= X\n",
        "  mu=np.mean(X, axis=0)\n",
        "  sigma= np.std(X, axis=0)\n",
        "  X_norm= (X- mu)/sigma \n",
        "\n",
        "  return [X_norm, mu, sigma]"
      ],
      "metadata": {
        "id": "k3jA8hxAqbyk"
      },
      "execution_count": null,
      "outputs": []
    },
    {
      "cell_type": "code",
      "source": [
        "[X_train, mu, sigma]= featureNormalization(X_train)"
      ],
      "metadata": {
        "id": "OFq05483qeWq"
      },
      "execution_count": null,
      "outputs": []
    },
    {
      "cell_type": "code",
      "source": [
        "def transformX(X,m):\n",
        "  X_final= np.ones((m, 1))\n",
        "  for i in range(n):\n",
        "    X1= X[:, i]\n",
        "    if i != n-1 :\n",
        "      X2= X[:, i+1]\n",
        "    else:\n",
        "      X2= X[:, 0]\n",
        "\n",
        "    X1= X1.reshape(m, 1)\n",
        "    X2= X2.reshape(m, 1)\n",
        "    X_final= np.append(X_final, X1, axis=1)\n",
        "    X_final= np.append(X_final, np.square(X1), axis=1)\n",
        "    X_final= np.append(X_final, X1*X2, axis=1)\n",
        "  return X_final"
      ],
      "metadata": {
        "id": "TgPMEZWXm5IP"
      },
      "execution_count": null,
      "outputs": []
    },
    {
      "cell_type": "code",
      "source": [
        "def computeCost(X_train, y_train, theta):\n",
        "  m= y_train.shape[0]\n",
        "  J=0\n",
        "  predictions= np.dot(X_train, theta)\n",
        "  J= 1/(2*m) * np.sum(np.square(predictions-y_train))\n",
        "  return J"
      ],
      "metadata": {
        "id": "JyiZoRyU2rB8"
      },
      "execution_count": null,
      "outputs": []
    },
    {
      "cell_type": "code",
      "source": [
        "def gradientDescent(X_train, y_train, theta, alpha, num_iters):\n",
        "  m= y_train.shape[0]\n",
        "  J_history= np.zeros((num_iters, 1))\n",
        "\n",
        "  for iter in range(0, num_iters-1):\n",
        "    predictions= np.dot(X_train, theta)\n",
        "    predictions.shape\n",
        "    delta= np.dot(X_train.T, predictions - y_train)/m\n",
        "    delta.shape\n",
        "    theta= theta - alpha*delta\n",
        "    J_history[iter]= computeCost(X_train, y_train, theta)\n",
        "\n",
        "  return [theta, J_history]"
      ],
      "metadata": {
        "id": "zH71jrXz2tDW"
      },
      "execution_count": null,
      "outputs": []
    },
    {
      "cell_type": "code",
      "source": [
        "X_train= transformX(X_train, m)\n",
        "print(X_train.shape)\n",
        "k = X_train.shape[1]\n",
        "\n",
        "theta= np.zeros((k, 1))\n",
        "\n",
        "alpha = 0.01\n",
        "num_iters= 10000\n",
        "\n",
        "J_hist= np.zeros((num_iters, 1))\n",
        "[theta, J_hist]= gradientDescent(X_train, y_train, theta, alpha, num_iters)\n",
        "print(\"Theta calculated from gradient descent is \", theta)\n",
        "theta.shape"
      ],
      "metadata": {
        "colab": {
          "base_uri": "https://localhost:8080/"
        },
        "id": "-YGWoVeOlh_F",
        "outputId": "14e35760-580d-4ee8-b812-629b2bc8282c"
      },
      "execution_count": null,
      "outputs": [
        {
          "output_type": "stream",
          "name": "stdout",
          "text": [
            "(50000, 10)\n",
            "Theta calculated from gradient descent is  [[   -1.89244832]\n",
            " [    6.48439408]\n",
            " [   35.22993919]\n",
            " [-1068.68211299]\n",
            " [   -3.61712425]\n",
            " [ -167.67503247]\n",
            " [  234.53205478]\n",
            " [   -3.72605771]\n",
            " [  133.96195742]\n",
            " [ -467.61892642]]\n"
          ]
        },
        {
          "output_type": "execute_result",
          "data": {
            "text/plain": [
              "(10, 1)"
            ]
          },
          "metadata": {},
          "execution_count": 15
        }
      ]
    },
    {
      "cell_type": "code",
      "source": [
        "print(J_hist)\n",
        "plt.plot(range(num_iters), J_hist, 'bx')"
      ],
      "metadata": {
        "colab": {
          "base_uri": "https://localhost:8080/",
          "height": 404
        },
        "id": "vU6Sjmwi01Tk",
        "outputId": "3a043472-5105-4c6b-8bd4-908be3401f39"
      },
      "execution_count": null,
      "outputs": [
        {
          "output_type": "stream",
          "name": "stdout",
          "text": [
            "[[7.12649246e+05]\n",
            " [6.98525069e+05]\n",
            " [6.84682201e+05]\n",
            " ...\n",
            " [6.54327305e+01]\n",
            " [6.54327305e+01]\n",
            " [0.00000000e+00]]\n"
          ]
        },
        {
          "output_type": "execute_result",
          "data": {
            "text/plain": [
              "[<matplotlib.lines.Line2D at 0x7f0d152e1410>]"
            ]
          },
          "metadata": {},
          "execution_count": 16
        },
        {
          "output_type": "display_data",
          "data": {
            "text/plain": [
              "<Figure size 432x288 with 1 Axes>"
            ],
            "image/png": "[encoded data removed]"
          },
          "metadata": {
            "needs_background": "light"
          }
        }
      ]
    },
    {
      "cell_type": "code",
      "source": [
        "l= test.shape[1]\n",
        "X_test= test.iloc[:, 1:l-1]\n",
        "y_test= test.iloc[:, l-1]\n",
        "\n",
        "X_test= X_test.to_numpy()\n",
        "y_test= y_test.to_numpy()\n",
        "y_test= y_test.reshape(X_test.shape[0], 1)\n",
        "\n",
        "print(X_test.shape)\n",
        "print(y_test.shape)\n",
        "\n",
        "m=X_test.shape[0]"
      ],
      "metadata": {
        "colab": {
          "base_uri": "https://localhost:8080/"
        },
        "id": "MW5yoX6-4IIa",
        "outputId": "a0e9f2d3-788a-4875-f976-a9feb930d619"
      },
      "execution_count": null,
      "outputs": [
        {
          "output_type": "stream",
          "name": "stdout",
          "text": [
            "(10000, 3)\n",
            "(10000, 1)\n"
          ]
        }
      ]
    },
    {
      "cell_type": "code",
      "source": [
        "X_test = (X_test - mu)/sigma \n",
        "X_test "
      ],
      "metadata": {
        "colab": {
          "base_uri": "https://localhost:8080/"
        },
        "id": "IHghh-ES47wW",
        "outputId": "24e3f881-5aad-44ad-fa93-95236d1009f9"
      },
      "execution_count": null,
      "outputs": [
        {
          "output_type": "execute_result",
          "data": {
            "text/plain": [
              "array([[ 1.6102745 ,  0.07766879,  1.0320618 ],\n",
              "       [ 0.48165174,  1.06705594,  1.10714074],\n",
              "       [-0.46868889,  1.34892546, -1.19982224],\n",
              "       ...,\n",
              "       [ 1.14547015,  1.19175129,  0.77753223],\n",
              "       [-1.09152346,  0.23482447, -0.67900151],\n",
              "       [ 1.43131274, -0.05782099,  0.36064771]])"
            ]
          },
          "metadata": {},
          "execution_count": 18
        }
      ]
    },
    {
      "cell_type": "code",
      "source": [
        "X_test= transformX(X_test, m)\n",
        "print(X_test.shape)"
      ],
      "metadata": {
        "colab": {
          "base_uri": "https://localhost:8080/"
        },
        "id": "ulfRurbb5OJw",
        "outputId": "a83d5549-7423-4fb9-a3ef-96660934e1ff"
      },
      "execution_count": null,
      "outputs": [
        {
          "output_type": "stream",
          "name": "stdout",
          "text": [
            "(10000, 10)\n"
          ]
        }
      ]
    },
    {
      "cell_type": "code",
      "source": [
        "y_predict= np.dot(X_test, theta)\n",
        "l= y_predict.shape"
      ],
      "metadata": {
        "id": "sghMYxsU5mNv"
      },
      "execution_count": null,
      "outputs": []
    },
    {
      "cell_type": "code",
      "source": [
        "mean_y_predict= np.mean(y_predict) * np.ones(l)\n",
        "mean_y_test = np.mean(y_test) * np.ones(l)\n",
        "accuracy = np.sum(np.square(y_predict - mean_y_predict)) / np.sum(np.square(y_test - mean_y_test)) * 100\n",
        "print(accuracy)"
      ],
      "metadata": {
        "colab": {
          "base_uri": "https://localhost:8080/"
        },
        "id": "wlsQW5xj6Bfx",
        "outputId": "e083032a-16ec-413b-ea34-64641a738c31"
      },
      "execution_count": null,
      "outputs": [
        {
          "output_type": "stream",
          "name": "stdout",
          "text": [
            "99.99619800733774\n"
          ]
        }
      ]
    }
  ]
}